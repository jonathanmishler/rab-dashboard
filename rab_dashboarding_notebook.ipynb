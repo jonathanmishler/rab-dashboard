{
 "metadata": {
  "language_info": {
   "codemirror_mode": {
    "name": "ipython",
    "version": 3
   },
   "file_extension": ".py",
   "mimetype": "text/x-python",
   "name": "python",
   "nbconvert_exporter": "python",
   "pygments_lexer": "ipython3",
   "version": "3.8.7-final"
  },
  "orig_nbformat": 2,
  "kernelspec": {
   "name": "python3",
   "display_name": "Python 3.8.7 64-bit ('.venv')",
   "metadata": {
    "interpreter": {
     "hash": "59bda91a84636d59b99058f9250043f8004c56a96c03da825e8d02f11c4bda7d"
    }
   }
  }
 },
 "nbformat": 4,
 "nbformat_minor": 2,
 "cells": [
  {
   "source": [
    "# RAB Dashboarding Notebook"
   ],
   "cell_type": "markdown",
   "metadata": {}
  },
  {
   "cell_type": "code",
   "execution_count": 2,
   "metadata": {},
   "outputs": [],
   "source": [
    "from box import Box\n",
    "import altair\n",
    "import rab\n",
    "import zoho"
   ]
  },
  {
   "cell_type": "code",
   "execution_count": 5,
   "metadata": {},
   "outputs": [],
   "source": [
    "# Load the config settings\n",
    "with open(\"config.yml\", \"r\") as config_file:\n",
    "    config = Box.from_yaml(config_file)"
   ]
  },
  {
   "cell_type": "code",
   "execution_count": 14,
   "metadata": {},
   "outputs": [
    {
     "output_type": "stream",
     "name": "stderr",
     "text": [
      "127.0.0.1 - - [11/Feb/2021 15:11:52] \"GET /?code=1000.f807610e034508498b897974bd8fd652.d7737003f0dcd7225e9566bb54833f94&location=us&accounts-server=https%3A%2F%2Faccounts.zoho.com& HTTP/1.1\" 200 -\n"
     ]
    }
   ],
   "source": [
    "crm = zoho.Crm(\n",
    "    org_id = config.zoho.org_id, \n",
    "    client_id = config.zoho.client_id, \n",
    "    client_secret = config.zoho.client_secret, \n",
    "    redirect = config.zoho.redirect, \n",
    "    scope = config.zoho.scope.to_list()\n",
    ")"
   ]
  },
  {
   "cell_type": "code",
   "execution_count": 15,
   "metadata": {},
   "outputs": [
    {
     "output_type": "stream",
     "name": "stderr",
     "text": [
      "127.0.0.1 - - [11/Feb/2021 15:12:21] \"GET /?code=1000.abeaebcd05f95cae0818174ab9e8f1b9.8ab8d1d157c1e1f6e6219e7d1b1e7d10&location=us&accounts-server=https%3A%2F%2Faccounts.zoho.com& HTTP/1.1\" 200 -\n"
     ]
    },
    {
     "output_type": "error",
     "ename": "TypeError",
     "evalue": "'NoneType' object is not subscriptable",
     "traceback": [
      "\u001b[1;31m---------------------------------------------------------------------------\u001b[0m",
      "\u001b[1;31mTypeError\u001b[0m                                 Traceback (most recent call last)",
      "\u001b[1;32m<ipython-input-15-07c382fefa28>\u001b[0m in \u001b[0;36m<module>\u001b[1;34m\u001b[0m\n\u001b[1;32m----> 1\u001b[1;33m \u001b[0mr\u001b[0m \u001b[1;33m=\u001b[0m \u001b[0mcrm\u001b[0m\u001b[1;33m.\u001b[0m\u001b[0mall\u001b[0m\u001b[1;33m(\u001b[0m\u001b[1;34m\"invoices\"\u001b[0m\u001b[1;33m)\u001b[0m\u001b[1;33m\u001b[0m\u001b[1;33m\u001b[0m\u001b[0m\n\u001b[0m",
      "\u001b[1;32mc:\\Users\\jonat\\dev\\projects\\rab_dashboard\\.venv\\lib\\site-packages\\zoho\\api.py\u001b[0m in \u001b[0;36mall\u001b[1;34m(self, module)\u001b[0m\n\u001b[0;32m     31\u001b[0m \u001b[1;33m\u001b[0m\u001b[0m\n\u001b[0;32m     32\u001b[0m     \u001b[1;32mdef\u001b[0m \u001b[0mall\u001b[0m\u001b[1;33m(\u001b[0m\u001b[0mself\u001b[0m\u001b[1;33m,\u001b[0m \u001b[0mmodule\u001b[0m\u001b[1;33m:\u001b[0m \u001b[0mstr\u001b[0m\u001b[1;33m)\u001b[0m\u001b[1;33m:\u001b[0m\u001b[1;33m\u001b[0m\u001b[1;33m\u001b[0m\u001b[0m\n\u001b[1;32m---> 33\u001b[1;33m         \u001b[1;32mreturn\u001b[0m \u001b[0mself\u001b[0m\u001b[1;33m.\u001b[0m\u001b[0mget\u001b[0m\u001b[1;33m(\u001b[0m\u001b[1;34mf\"{module}\"\u001b[0m\u001b[1;33m)\u001b[0m\u001b[1;33m[\u001b[0m\u001b[0mmodule\u001b[0m\u001b[1;33m]\u001b[0m\u001b[1;33m\u001b[0m\u001b[1;33m\u001b[0m\u001b[0m\n\u001b[0m\u001b[0;32m     34\u001b[0m \u001b[1;33m\u001b[0m\u001b[0m\n\u001b[0;32m     35\u001b[0m     \u001b[1;32mdef\u001b[0m \u001b[0mrecord\u001b[0m\u001b[1;33m(\u001b[0m\u001b[0mself\u001b[0m\u001b[1;33m,\u001b[0m \u001b[0mmodule\u001b[0m\u001b[1;33m:\u001b[0m \u001b[0mstr\u001b[0m\u001b[1;33m,\u001b[0m \u001b[0mrecord_id\u001b[0m\u001b[1;33m:\u001b[0m \u001b[0mstr\u001b[0m\u001b[1;33m)\u001b[0m\u001b[1;33m:\u001b[0m\u001b[1;33m\u001b[0m\u001b[1;33m\u001b[0m\u001b[0m\n",
      "\u001b[1;31mTypeError\u001b[0m: 'NoneType' object is not subscriptable"
     ]
    }
   ],
   "source": [
    "r = crm.all(\"invoices\")"
   ]
  },
  {
   "cell_type": "code",
   "execution_count": 16,
   "metadata": {},
   "outputs": [
    {
     "output_type": "stream",
     "name": "stdout",
     "text": [
      "Getting the Registro Aeronáutico Brasileiro (RAB) from Brazilian ANAC\n",
      "Downloading dados_aeronaves.csv - File Size: 7.283 MB\n",
      "Download Successful\n",
      "Cleaning the Raw Registro Aeronáutico Brasileiro (RAB)\n"
     ]
    }
   ],
   "source": [
    "air_br =  rab.Rab()"
   ]
  },
  {
   "cell_type": "code",
   "execution_count": 17,
   "metadata": {},
   "outputs": [
    {
     "output_type": "execute_result",
     "data": {
      "text/plain": [
       "  tail_number                                owner_customer_name  \\\n",
       "0       PRYYX                AZUL LINHAS AEREAS BRASILEIRAS S.A.   \n",
       "1       PRZAB                AMT PATRIMONIAL E PARTCIPACOES LTDA   \n",
       "2       PRZAD  AIRSHIP DO BRASIL - INDUSTRIA E SERVICOS AEREO...   \n",
       "3       PRZAE                               ADEMIR BATISTA BRAGA   \n",
       "4       PRZBB                                JOSE CLAUDIO FURLAN   \n",
       "\n",
       "              owner_other owner_state    owner_tax_id  \\\n",
       "0                     NaN          SP  09296295000160   \n",
       "1  FERNANDO SOARES GURGEL          CE  29327303000103   \n",
       "2                     NaN          SP  07933461000166   \n",
       "3                     NaN          SP     84293918868   \n",
       "4                     NaN          MG     45158940649   \n",
       "\n",
       "                              operator_customer_name          operator_other  \\\n",
       "0                                                NaN                     NaN   \n",
       "1                AMT PATRIMONIAL E PARTCIPACOES LTDA  FERNANDO SOARES GURGEL   \n",
       "2  AIRSHIP DO BRASIL - INDUSTRIA E SERVICOS AEREO...                     NaN   \n",
       "3                               ADEMIR BATISTA BRAGA                     NaN   \n",
       "4                                JOSE CLAUDIO FURLAN                     NaN   \n",
       "\n",
       "  operator_state operator_tax_id certifate_num  ... unk_cdmarcanac3  \\\n",
       "0            NaN            <NA>           NaN  ...             NaN   \n",
       "1             CE  29327303000103        121229  ...             NaN   \n",
       "2             SP  07933461000166        201106  ...             NaN   \n",
       "3             SP     84293918868        110921  ...             NaN   \n",
       "4             MG     45158940649        111205  ...             NaN   \n",
       "\n",
       "  foreign_tail_number         unk_dsgravame   age owner_tax_id_type  \\\n",
       "0                 NaN  RESERVADAS AS MARCAS  <NA>              CNPJ   \n",
       "1                 NaN                   NaN     9              CNPJ   \n",
       "2                 NaN                   NaN     1              CNPJ   \n",
       "3                 NaN                   NaN    10               CPF   \n",
       "4                 NaN                   NaN    10               CPF   \n",
       "\n",
       "   owner_tax_id_print  operator_tax_id_type operator_tax_id_print  \\\n",
       "0  09.296.295/0001-60                 EMPTY                  <NA>   \n",
       "1  29.327.303/0001-03                  CNPJ    29.327.303/0001-03   \n",
       "2  07.933.461/0001-66                  CNPJ    07.933.461/0001-66   \n",
       "3      842.939.188-68                   CPF        842.939.188-68   \n",
       "4      451.589.406-49                   CPF        451.589.406-49   \n",
       "\n",
       "   owned_operated  agaircraft  \n",
       "0           False       False  \n",
       "1            True       False  \n",
       "2            True       False  \n",
       "3            True       False  \n",
       "4            True       False  \n",
       "\n",
       "[5 rows x 39 columns]"
      ],
      "text/html": "<div>\n<style scoped>\n    .dataframe tbody tr th:only-of-type {\n        vertical-align: middle;\n    }\n\n    .dataframe tbody tr th {\n        vertical-align: top;\n    }\n\n    .dataframe thead th {\n        text-align: right;\n    }\n</style>\n<table border=\"1\" class=\"dataframe\">\n  <thead>\n    <tr style=\"text-align: right;\">\n      <th></th>\n      <th>tail_number</th>\n      <th>owner_customer_name</th>\n      <th>owner_other</th>\n      <th>owner_state</th>\n      <th>owner_tax_id</th>\n      <th>operator_customer_name</th>\n      <th>operator_other</th>\n      <th>operator_state</th>\n      <th>operator_tax_id</th>\n      <th>certifate_num</th>\n      <th>...</th>\n      <th>unk_cdmarcanac3</th>\n      <th>foreign_tail_number</th>\n      <th>unk_dsgravame</th>\n      <th>age</th>\n      <th>owner_tax_id_type</th>\n      <th>owner_tax_id_print</th>\n      <th>operator_tax_id_type</th>\n      <th>operator_tax_id_print</th>\n      <th>owned_operated</th>\n      <th>agaircraft</th>\n    </tr>\n  </thead>\n  <tbody>\n    <tr>\n      <th>0</th>\n      <td>PRYYX</td>\n      <td>AZUL LINHAS AEREAS BRASILEIRAS S.A.</td>\n      <td>NaN</td>\n      <td>SP</td>\n      <td>09296295000160</td>\n      <td>NaN</td>\n      <td>NaN</td>\n      <td>NaN</td>\n      <td>&lt;NA&gt;</td>\n      <td>NaN</td>\n      <td>...</td>\n      <td>NaN</td>\n      <td>NaN</td>\n      <td>RESERVADAS AS MARCAS</td>\n      <td>&lt;NA&gt;</td>\n      <td>CNPJ</td>\n      <td>09.296.295/0001-60</td>\n      <td>EMPTY</td>\n      <td>&lt;NA&gt;</td>\n      <td>False</td>\n      <td>False</td>\n    </tr>\n    <tr>\n      <th>1</th>\n      <td>PRZAB</td>\n      <td>AMT PATRIMONIAL E PARTCIPACOES LTDA</td>\n      <td>FERNANDO SOARES GURGEL</td>\n      <td>CE</td>\n      <td>29327303000103</td>\n      <td>AMT PATRIMONIAL E PARTCIPACOES LTDA</td>\n      <td>FERNANDO SOARES GURGEL</td>\n      <td>CE</td>\n      <td>29327303000103</td>\n      <td>121229</td>\n      <td>...</td>\n      <td>NaN</td>\n      <td>NaN</td>\n      <td>NaN</td>\n      <td>9</td>\n      <td>CNPJ</td>\n      <td>29.327.303/0001-03</td>\n      <td>CNPJ</td>\n      <td>29.327.303/0001-03</td>\n      <td>True</td>\n      <td>False</td>\n    </tr>\n    <tr>\n      <th>2</th>\n      <td>PRZAD</td>\n      <td>AIRSHIP DO BRASIL - INDUSTRIA E SERVICOS AEREO...</td>\n      <td>NaN</td>\n      <td>SP</td>\n      <td>07933461000166</td>\n      <td>AIRSHIP DO BRASIL - INDUSTRIA E SERVICOS AEREO...</td>\n      <td>NaN</td>\n      <td>SP</td>\n      <td>07933461000166</td>\n      <td>201106</td>\n      <td>...</td>\n      <td>NaN</td>\n      <td>NaN</td>\n      <td>NaN</td>\n      <td>1</td>\n      <td>CNPJ</td>\n      <td>07.933.461/0001-66</td>\n      <td>CNPJ</td>\n      <td>07.933.461/0001-66</td>\n      <td>True</td>\n      <td>False</td>\n    </tr>\n    <tr>\n      <th>3</th>\n      <td>PRZAE</td>\n      <td>ADEMIR BATISTA BRAGA</td>\n      <td>NaN</td>\n      <td>SP</td>\n      <td>84293918868</td>\n      <td>ADEMIR BATISTA BRAGA</td>\n      <td>NaN</td>\n      <td>SP</td>\n      <td>84293918868</td>\n      <td>110921</td>\n      <td>...</td>\n      <td>NaN</td>\n      <td>NaN</td>\n      <td>NaN</td>\n      <td>10</td>\n      <td>CPF</td>\n      <td>842.939.188-68</td>\n      <td>CPF</td>\n      <td>842.939.188-68</td>\n      <td>True</td>\n      <td>False</td>\n    </tr>\n    <tr>\n      <th>4</th>\n      <td>PRZBB</td>\n      <td>JOSE CLAUDIO FURLAN</td>\n      <td>NaN</td>\n      <td>MG</td>\n      <td>45158940649</td>\n      <td>JOSE CLAUDIO FURLAN</td>\n      <td>NaN</td>\n      <td>MG</td>\n      <td>45158940649</td>\n      <td>111205</td>\n      <td>...</td>\n      <td>NaN</td>\n      <td>NaN</td>\n      <td>NaN</td>\n      <td>10</td>\n      <td>CPF</td>\n      <td>451.589.406-49</td>\n      <td>CPF</td>\n      <td>451.589.406-49</td>\n      <td>True</td>\n      <td>False</td>\n    </tr>\n  </tbody>\n</table>\n<p>5 rows × 39 columns</p>\n</div>"
     },
     "metadata": {},
     "execution_count": 17
    }
   ],
   "source": [
    "air_br.clean.head()"
   ]
  },
  {
   "cell_type": "code",
   "execution_count": null,
   "metadata": {},
   "outputs": [],
   "source": []
  }
 ]
}