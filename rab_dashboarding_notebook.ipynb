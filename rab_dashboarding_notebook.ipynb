{
 "metadata": {
  "language_info": {
   "codemirror_mode": {
    "name": "ipython",
    "version": 3
   },
   "file_extension": ".py",
   "mimetype": "text/x-python",
   "name": "python",
   "nbconvert_exporter": "python",
   "pygments_lexer": "ipython3",
   "version": "3.6.9-final"
  },
  "orig_nbformat": 2,
  "kernelspec": {
   "name": "python3",
   "display_name": "Python 3.6.9 64-bit ('.venv')",
   "metadata": {
    "interpreter": {
     "hash": "29c9ff9bc9dbe54454c13c50d517f272a203d4be89e37445bf658b31372509b0"
    }
   }
  }
 },
 "nbformat": 4,
 "nbformat_minor": 2,
 "cells": [
  {
   "source": [
    "# RAB Dashboarding Notebook"
   ],
   "cell_type": "markdown",
   "metadata": {}
  },
  {
   "cell_type": "code",
   "execution_count": 1,
   "metadata": {},
   "outputs": [],
   "source": [
    "from ruamel.yaml import YAML\n",
    "import pandas as pd\n",
    "import altair as alt\n",
    "import rab\n",
    "from zoho import Zoho, CrmRequest"
   ]
  },
  {
   "cell_type": "code",
   "execution_count": 4,
   "metadata": {},
   "outputs": [],
   "source": [
    "# Load the config settings\n",
    "yaml=YAML(typ='safe')\n",
    "with open(\"config.yml\", \"r\") as config_file:\n",
    "    config = yaml.load(config_file)\n",
    "\n",
    "zoho_config = config['zoho']"
   ]
  },
  {
   "cell_type": "code",
   "execution_count": 5,
   "metadata": {},
   "outputs": [
    {
     "output_type": "stream",
     "name": "stderr",
     "text": [
      "127.0.0.1 - - [23/Feb/2021 12:46:10] \"GET /?code=1000.fc467f257c650bbcbed9c69852d941e0.21a6ebbc41cf695a2c392cca4be0d0c5&location=us&accounts-server=https%3A%2F%2Faccounts.zoho.com& HTTP/1.1\" 200 -\n"
     ]
    }
   ],
   "source": [
    "zoho_client = Zoho(\n",
    "    org_id = zoho_config['org_id'], \n",
    "    client_id = zoho_config['client_id'], \n",
    "    client_secret = zoho_config['client_secret'], \n",
    "    redirect = zoho_config['redirect'], \n",
    "    scope = zoho_config['scope']\n",
    ")"
   ]
  },
  {
   "cell_type": "code",
   "execution_count": 6,
   "metadata": {},
   "outputs": [
    {
     "output_type": "stream",
     "name": "stdout",
     "text": [
      "Added 200 records for a total of 200 records\n",
      "Added 16 records for a total of 216 records\n"
     ]
    }
   ],
   "source": [
    "request = CrmRequest(zoho_client, 'Invoices')\n",
    "fields = ['Aircraft_SN', 'Account_Name', 'Engine_Model', 'Engine_Serial_Number', 'Export_Country', 'Product_Details', 'Grand_Total']\n",
    "request.params.fields = fields\n",
    "agsur_sales = request.execute()\n"
   ]
  },
  {
   "cell_type": "code",
   "execution_count": 36,
   "metadata": {},
   "outputs": [
    {
     "output_type": "execute_result",
     "data": {
      "text/plain": [
       "  Export_Country  Grand_Total Engine_Model Engine_Serial_Number Aircraft_SN  \\\n",
       "0      Argentina    1874000.0    PT6A-67AG           PCE-RD0355    802-0856   \n",
       "1       Paraguay     881595.0    PT6A-15AG           PCE-PD0268   402B-1443   \n",
       "2         Brazil     863035.0    PT6A-11AG           PCE-RH0139   402A-1444   \n",
       "3         Brazil    1055110.0    PT6A-34AG           PCE-PH1348    504-4037   \n",
       "4         Brazil    1021145.0    PT6A-34AG           PCE-PH1356   502B-3265   \n",
       "\n",
       "                   id                               account_name  \\\n",
       "0  524414000009979292  Helicópteros del Pacífico Argentina S. A.   \n",
       "1  524414000009979227                            Aero Chaco S.A.   \n",
       "2  524414000009979196              Aero Agrícola Medianeira Ltda   \n",
       "3  524414000009979139                  Aplimax Aeroagricola Ltda   \n",
       "4  524414000009979095              Agripar Aviação Agrícola Ltda   \n",
       "\n",
       "           account_id    model  \n",
       "0  524414000009979267   AT-802  \n",
       "1  524414000008575001  AT-402B  \n",
       "2  524414000009979171  AT-402A  \n",
       "3  524414000005114068   AT-504  \n",
       "4  524414000009979060  AT-502B  "
      ],
      "text/html": "<div>\n<style scoped>\n    .dataframe tbody tr th:only-of-type {\n        vertical-align: middle;\n    }\n\n    .dataframe tbody tr th {\n        vertical-align: top;\n    }\n\n    .dataframe thead th {\n        text-align: right;\n    }\n</style>\n<table border=\"1\" class=\"dataframe\">\n  <thead>\n    <tr style=\"text-align: right;\">\n      <th></th>\n      <th>Export_Country</th>\n      <th>Grand_Total</th>\n      <th>Engine_Model</th>\n      <th>Engine_Serial_Number</th>\n      <th>Aircraft_SN</th>\n      <th>id</th>\n      <th>account_name</th>\n      <th>account_id</th>\n      <th>model</th>\n    </tr>\n  </thead>\n  <tbody>\n    <tr>\n      <th>0</th>\n      <td>Argentina</td>\n      <td>1874000.0</td>\n      <td>PT6A-67AG</td>\n      <td>PCE-RD0355</td>\n      <td>802-0856</td>\n      <td>524414000009979292</td>\n      <td>Helicópteros del Pacífico Argentina S. A.</td>\n      <td>524414000009979267</td>\n      <td>AT-802</td>\n    </tr>\n    <tr>\n      <th>1</th>\n      <td>Paraguay</td>\n      <td>881595.0</td>\n      <td>PT6A-15AG</td>\n      <td>PCE-PD0268</td>\n      <td>402B-1443</td>\n      <td>524414000009979227</td>\n      <td>Aero Chaco S.A.</td>\n      <td>524414000008575001</td>\n      <td>AT-402B</td>\n    </tr>\n    <tr>\n      <th>2</th>\n      <td>Brazil</td>\n      <td>863035.0</td>\n      <td>PT6A-11AG</td>\n      <td>PCE-RH0139</td>\n      <td>402A-1444</td>\n      <td>524414000009979196</td>\n      <td>Aero Agrícola Medianeira Ltda</td>\n      <td>524414000009979171</td>\n      <td>AT-402A</td>\n    </tr>\n    <tr>\n      <th>3</th>\n      <td>Brazil</td>\n      <td>1055110.0</td>\n      <td>PT6A-34AG</td>\n      <td>PCE-PH1348</td>\n      <td>504-4037</td>\n      <td>524414000009979139</td>\n      <td>Aplimax Aeroagricola Ltda</td>\n      <td>524414000005114068</td>\n      <td>AT-504</td>\n    </tr>\n    <tr>\n      <th>4</th>\n      <td>Brazil</td>\n      <td>1021145.0</td>\n      <td>PT6A-34AG</td>\n      <td>PCE-PH1356</td>\n      <td>502B-3265</td>\n      <td>524414000009979095</td>\n      <td>Agripar Aviação Agrícola Ltda</td>\n      <td>524414000009979060</td>\n      <td>AT-502B</td>\n    </tr>\n  </tbody>\n</table>\n</div>"
     },
     "metadata": {},
     "execution_count": 36
    }
   ],
   "source": [
    "agsur_sales_df = pd.DataFrame(agsur_sales)\n",
    "agsur_sales_df[['account_name', 'account_id']]=agsur_sales_df['Account_Name'].apply(lambda x: (x['name'], x['id'])).apply(pd.Series)\n",
    "agsur_sales_df['model']=agsur_sales_df['Product_Details'].apply(lambda x: x[0]['product']['name'])\n",
    "agsur_sales_df = agsur_sales_df.drop([\"Account_Name\", \"Product_Details\"], axis=1)\n",
    "agsur_sales_df.head()"
   ]
  },
  {
   "cell_type": "code",
   "execution_count": 2,
   "metadata": {},
   "outputs": [
    {
     "output_type": "stream",
     "name": "stdout",
     "text": [
      "Getting the Registro Aeronáutico Brasileiro (RAB) from Brazilian ANAC\nFile Already Downloaded at data/rab/raw.csv\nCleaning the Raw Registro Aeronáutico Brasileiro (RAB)\n"
     ]
    }
   ],
   "source": [
    "air_br =  rab.Rab()"
   ]
  },
  {
   "cell_type": "code",
   "execution_count": 3,
   "metadata": {},
   "outputs": [
    {
     "output_type": "execute_result",
     "data": {
      "text/plain": [
       "  tail_number                                owner_customer_name  \\\n",
       "0       PRYYX                AZUL LINHAS AEREAS BRASILEIRAS S.A.   \n",
       "1       PRZAB                AMT PATRIMONIAL E PARTCIPACOES LTDA   \n",
       "2       PRZAD  AIRSHIP DO BRASIL - INDUSTRIA E SERVICOS AEREO...   \n",
       "3       PRZAE                               ADEMIR BATISTA BRAGA   \n",
       "4       PRZBB                                JOSE CLAUDIO FURLAN   \n",
       "\n",
       "              owner_other owner_state    owner_tax_id  \\\n",
       "0                     NaN          SP  09296295000160   \n",
       "1  FERNANDO SOARES GURGEL          CE  29327303000103   \n",
       "2                     NaN          SP  07933461000166   \n",
       "3                     NaN          SP     84293918868   \n",
       "4                     NaN          MG     45158940649   \n",
       "\n",
       "                              operator_customer_name          operator_other  \\\n",
       "0                                                NaN                     NaN   \n",
       "1                AMT PATRIMONIAL E PARTCIPACOES LTDA  FERNANDO SOARES GURGEL   \n",
       "2  AIRSHIP DO BRASIL - INDUSTRIA E SERVICOS AEREO...                     NaN   \n",
       "3                               ADEMIR BATISTA BRAGA                     NaN   \n",
       "4                                JOSE CLAUDIO FURLAN                     NaN   \n",
       "\n",
       "  operator_state operator_tax_id certifate_num  ... unk_cdmarcanac3  \\\n",
       "0            NaN            <NA>           NaN  ...             NaN   \n",
       "1             CE  29327303000103        121229  ...             NaN   \n",
       "2             SP  07933461000166        201106  ...             NaN   \n",
       "3             SP     84293918868        110921  ...             NaN   \n",
       "4             MG     45158940649        111205  ...             NaN   \n",
       "\n",
       "  foreign_tail_number         unk_dsgravame   age owner_tax_id_type  \\\n",
       "0                 NaN  RESERVADAS AS MARCAS  <NA>              CNPJ   \n",
       "1                 NaN                   NaN     9              CNPJ   \n",
       "2                 NaN                   NaN     1              CNPJ   \n",
       "3                 NaN                   NaN    10               CPF   \n",
       "4                 NaN                   NaN    10               CPF   \n",
       "\n",
       "   owner_tax_id_print  operator_tax_id_type operator_tax_id_print  \\\n",
       "0  09.296.295/0001-60                 EMPTY                  <NA>   \n",
       "1  29.327.303/0001-03                  CNPJ    29.327.303/0001-03   \n",
       "2  07.933.461/0001-66                  CNPJ    07.933.461/0001-66   \n",
       "3      842.939.188-68                   CPF        842.939.188-68   \n",
       "4      451.589.406-49                   CPF        451.589.406-49   \n",
       "\n",
       "   owned_operated  agaircraft  \n",
       "0           False       False  \n",
       "1            True       False  \n",
       "2            True       False  \n",
       "3            True       False  \n",
       "4            True       False  \n",
       "\n",
       "[5 rows x 39 columns]"
      ],
      "text/html": "<div>\n<style scoped>\n    .dataframe tbody tr th:only-of-type {\n        vertical-align: middle;\n    }\n\n    .dataframe tbody tr th {\n        vertical-align: top;\n    }\n\n    .dataframe thead th {\n        text-align: right;\n    }\n</style>\n<table border=\"1\" class=\"dataframe\">\n  <thead>\n    <tr style=\"text-align: right;\">\n      <th></th>\n      <th>tail_number</th>\n      <th>owner_customer_name</th>\n      <th>owner_other</th>\n      <th>owner_state</th>\n      <th>owner_tax_id</th>\n      <th>operator_customer_name</th>\n      <th>operator_other</th>\n      <th>operator_state</th>\n      <th>operator_tax_id</th>\n      <th>certifate_num</th>\n      <th>...</th>\n      <th>unk_cdmarcanac3</th>\n      <th>foreign_tail_number</th>\n      <th>unk_dsgravame</th>\n      <th>age</th>\n      <th>owner_tax_id_type</th>\n      <th>owner_tax_id_print</th>\n      <th>operator_tax_id_type</th>\n      <th>operator_tax_id_print</th>\n      <th>owned_operated</th>\n      <th>agaircraft</th>\n    </tr>\n  </thead>\n  <tbody>\n    <tr>\n      <th>0</th>\n      <td>PRYYX</td>\n      <td>AZUL LINHAS AEREAS BRASILEIRAS S.A.</td>\n      <td>NaN</td>\n      <td>SP</td>\n      <td>09296295000160</td>\n      <td>NaN</td>\n      <td>NaN</td>\n      <td>NaN</td>\n      <td>&lt;NA&gt;</td>\n      <td>NaN</td>\n      <td>...</td>\n      <td>NaN</td>\n      <td>NaN</td>\n      <td>RESERVADAS AS MARCAS</td>\n      <td>&lt;NA&gt;</td>\n      <td>CNPJ</td>\n      <td>09.296.295/0001-60</td>\n      <td>EMPTY</td>\n      <td>&lt;NA&gt;</td>\n      <td>False</td>\n      <td>False</td>\n    </tr>\n    <tr>\n      <th>1</th>\n      <td>PRZAB</td>\n      <td>AMT PATRIMONIAL E PARTCIPACOES LTDA</td>\n      <td>FERNANDO SOARES GURGEL</td>\n      <td>CE</td>\n      <td>29327303000103</td>\n      <td>AMT PATRIMONIAL E PARTCIPACOES LTDA</td>\n      <td>FERNANDO SOARES GURGEL</td>\n      <td>CE</td>\n      <td>29327303000103</td>\n      <td>121229</td>\n      <td>...</td>\n      <td>NaN</td>\n      <td>NaN</td>\n      <td>NaN</td>\n      <td>9</td>\n      <td>CNPJ</td>\n      <td>29.327.303/0001-03</td>\n      <td>CNPJ</td>\n      <td>29.327.303/0001-03</td>\n      <td>True</td>\n      <td>False</td>\n    </tr>\n    <tr>\n      <th>2</th>\n      <td>PRZAD</td>\n      <td>AIRSHIP DO BRASIL - INDUSTRIA E SERVICOS AEREO...</td>\n      <td>NaN</td>\n      <td>SP</td>\n      <td>07933461000166</td>\n      <td>AIRSHIP DO BRASIL - INDUSTRIA E SERVICOS AEREO...</td>\n      <td>NaN</td>\n      <td>SP</td>\n      <td>07933461000166</td>\n      <td>201106</td>\n      <td>...</td>\n      <td>NaN</td>\n      <td>NaN</td>\n      <td>NaN</td>\n      <td>1</td>\n      <td>CNPJ</td>\n      <td>07.933.461/0001-66</td>\n      <td>CNPJ</td>\n      <td>07.933.461/0001-66</td>\n      <td>True</td>\n      <td>False</td>\n    </tr>\n    <tr>\n      <th>3</th>\n      <td>PRZAE</td>\n      <td>ADEMIR BATISTA BRAGA</td>\n      <td>NaN</td>\n      <td>SP</td>\n      <td>84293918868</td>\n      <td>ADEMIR BATISTA BRAGA</td>\n      <td>NaN</td>\n      <td>SP</td>\n      <td>84293918868</td>\n      <td>110921</td>\n      <td>...</td>\n      <td>NaN</td>\n      <td>NaN</td>\n      <td>NaN</td>\n      <td>10</td>\n      <td>CPF</td>\n      <td>842.939.188-68</td>\n      <td>CPF</td>\n      <td>842.939.188-68</td>\n      <td>True</td>\n      <td>False</td>\n    </tr>\n    <tr>\n      <th>4</th>\n      <td>PRZBB</td>\n      <td>JOSE CLAUDIO FURLAN</td>\n      <td>NaN</td>\n      <td>MG</td>\n      <td>45158940649</td>\n      <td>JOSE CLAUDIO FURLAN</td>\n      <td>NaN</td>\n      <td>MG</td>\n      <td>45158940649</td>\n      <td>111205</td>\n      <td>...</td>\n      <td>NaN</td>\n      <td>NaN</td>\n      <td>NaN</td>\n      <td>10</td>\n      <td>CPF</td>\n      <td>451.589.406-49</td>\n      <td>CPF</td>\n      <td>451.589.406-49</td>\n      <td>True</td>\n      <td>False</td>\n    </tr>\n  </tbody>\n</table>\n<p>5 rows × 39 columns</p>\n</div>"
     },
     "metadata": {},
     "execution_count": 3
    }
   ],
   "source": [
    "air_br.clean.head()"
   ]
  },
  {
   "cell_type": "code",
   "execution_count": 55,
   "metadata": {},
   "outputs": [],
   "source": [
    "ag_air = air_br.clean[air_br.clean['agaircraft']].copy()\n",
    "ag_air = ag_air.merge(agsur_sales_df, left_on='serial', right_on=\"Aircraft_SN\")"
   ]
  },
  {
   "cell_type": "code",
   "execution_count": 56,
   "metadata": {},
   "outputs": [],
   "source": [
    "# Ag Aircraft Sales by year grouped by Mfg 2010-2021"
   ]
  },
  {
   "cell_type": "code",
   "execution_count": null,
   "metadata": {},
   "outputs": [],
   "source": [
    "# Cumlative Ag Aircraft in Brazil with current IAM and CAM status grouped by Mfg, Model, Engine Type"
   ]
  },
  {
   "cell_type": "code",
   "execution_count": null,
   "metadata": {},
   "outputs": [],
   "source": [
    "# Percent and count of Ag Aircraft Sales / Air Tractor sale by AgSur 2010-2021"
   ]
  },
  {
   "cell_type": "code",
   "execution_count": 58,
   "metadata": {},
   "outputs": [],
   "source": [
    "# Percent and count of Ag Aircraft Sales / Air Tractor sale by AgSur cumulative grouped by state"
   ]
  },
  {
   "cell_type": "code",
   "execution_count": null,
   "metadata": {},
   "outputs": [],
   "source": []
  }
 ]
}