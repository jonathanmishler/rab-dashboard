{
 "metadata": {
  "language_info": {
   "codemirror_mode": {
    "name": "ipython",
    "version": 3
   },
   "file_extension": ".py",
   "mimetype": "text/x-python",
   "name": "python",
   "nbconvert_exporter": "python",
   "pygments_lexer": "ipython3",
   "version": "3.8.7-final"
  },
  "orig_nbformat": 2,
  "kernelspec": {
   "name": "python3",
   "display_name": "Python 3.8.7 64-bit ('.venv')",
   "metadata": {
    "interpreter": {
     "hash": "59bda91a84636d59b99058f9250043f8004c56a96c03da825e8d02f11c4bda7d"
    }
   }
  }
 },
 "nbformat": 4,
 "nbformat_minor": 2,
 "cells": [
  {
   "source": [
    "# RAB Dashboarding Notebook"
   ],
   "cell_type": "markdown",
   "metadata": {}
  },
  {
   "cell_type": "code",
   "execution_count": 26,
   "metadata": {},
   "outputs": [],
   "source": [
    "from box import Box\n",
    "import pandas as pd\n",
    "import altair as alt\n",
    "import rab\n",
    "import zoho"
   ]
  },
  {
   "cell_type": "code",
   "execution_count": 5,
   "metadata": {},
   "outputs": [],
   "source": [
    "# Load the config settings\n",
    "with open(\"config.yml\", \"r\") as config_file:\n",
    "    config = Box.from_yaml(config_file)"
   ]
  },
  {
   "cell_type": "code",
   "execution_count": 14,
   "metadata": {},
   "outputs": [
    {
     "output_type": "stream",
     "name": "stderr",
     "text": [
      "127.0.0.1 - - [11/Feb/2021 15:11:52] \"GET /?code=1000.f807610e034508498b897974bd8fd652.d7737003f0dcd7225e9566bb54833f94&location=us&accounts-server=https%3A%2F%2Faccounts.zoho.com& HTTP/1.1\" 200 -\n"
     ]
    }
   ],
   "source": [
    "crm = zoho.Crm(\n",
    "    org_id = config.zoho.org_id, \n",
    "    client_id = config.zoho.client_id, \n",
    "    client_secret = config.zoho.client_secret, \n",
    "    redirect = config.zoho.redirect, \n",
    "    scope = config.zoho.scope.to_list()\n",
    ")"
   ]
  },
  {
   "cell_type": "code",
   "execution_count": 19,
   "metadata": {},
   "outputs": [],
   "source": [
    "r = crm.get(\"Invoices\")"
   ]
  },
  {
   "cell_type": "code",
   "execution_count": 16,
   "metadata": {},
   "outputs": [
    {
     "output_type": "stream",
     "name": "stdout",
     "text": [
      "Getting the Registro Aeronáutico Brasileiro (RAB) from Brazilian ANAC\n",
      "Downloading dados_aeronaves.csv - File Size: 7.283 MB\n",
      "Download Successful\n",
      "Cleaning the Raw Registro Aeronáutico Brasileiro (RAB)\n"
     ]
    }
   ],
   "source": [
    "air_br =  rab.Rab()"
   ]
  },
  {
   "cell_type": "code",
   "execution_count": 17,
   "metadata": {},
   "outputs": [
    {
     "output_type": "execute_result",
     "data": {
      "text/plain": [
       "  tail_number                                owner_customer_name  \\\n",
       "0       PRYYX                AZUL LINHAS AEREAS BRASILEIRAS S.A.   \n",
       "1       PRZAB                AMT PATRIMONIAL E PARTCIPACOES LTDA   \n",
       "2       PRZAD  AIRSHIP DO BRASIL - INDUSTRIA E SERVICOS AEREO...   \n",
       "3       PRZAE                               ADEMIR BATISTA BRAGA   \n",
       "4       PRZBB                                JOSE CLAUDIO FURLAN   \n",
       "\n",
       "              owner_other owner_state    owner_tax_id  \\\n",
       "0                     NaN          SP  09296295000160   \n",
       "1  FERNANDO SOARES GURGEL          CE  29327303000103   \n",
       "2                     NaN          SP  07933461000166   \n",
       "3                     NaN          SP     84293918868   \n",
       "4                     NaN          MG     45158940649   \n",
       "\n",
       "                              operator_customer_name          operator_other  \\\n",
       "0                                                NaN                     NaN   \n",
       "1                AMT PATRIMONIAL E PARTCIPACOES LTDA  FERNANDO SOARES GURGEL   \n",
       "2  AIRSHIP DO BRASIL - INDUSTRIA E SERVICOS AEREO...                     NaN   \n",
       "3                               ADEMIR BATISTA BRAGA                     NaN   \n",
       "4                                JOSE CLAUDIO FURLAN                     NaN   \n",
       "\n",
       "  operator_state operator_tax_id certifate_num  ... unk_cdmarcanac3  \\\n",
       "0            NaN            <NA>           NaN  ...             NaN   \n",
       "1             CE  29327303000103        121229  ...             NaN   \n",
       "2             SP  07933461000166        201106  ...             NaN   \n",
       "3             SP     84293918868        110921  ...             NaN   \n",
       "4             MG     45158940649        111205  ...             NaN   \n",
       "\n",
       "  foreign_tail_number         unk_dsgravame   age owner_tax_id_type  \\\n",
       "0                 NaN  RESERVADAS AS MARCAS  <NA>              CNPJ   \n",
       "1                 NaN                   NaN     9              CNPJ   \n",
       "2                 NaN                   NaN     1              CNPJ   \n",
       "3                 NaN                   NaN    10               CPF   \n",
       "4                 NaN                   NaN    10               CPF   \n",
       "\n",
       "   owner_tax_id_print  operator_tax_id_type operator_tax_id_print  \\\n",
       "0  09.296.295/0001-60                 EMPTY                  <NA>   \n",
       "1  29.327.303/0001-03                  CNPJ    29.327.303/0001-03   \n",
       "2  07.933.461/0001-66                  CNPJ    07.933.461/0001-66   \n",
       "3      842.939.188-68                   CPF        842.939.188-68   \n",
       "4      451.589.406-49                   CPF        451.589.406-49   \n",
       "\n",
       "   owned_operated  agaircraft  \n",
       "0           False       False  \n",
       "1            True       False  \n",
       "2            True       False  \n",
       "3            True       False  \n",
       "4            True       False  \n",
       "\n",
       "[5 rows x 39 columns]"
      ],
      "text/html": "<div>\n<style scoped>\n    .dataframe tbody tr th:only-of-type {\n        vertical-align: middle;\n    }\n\n    .dataframe tbody tr th {\n        vertical-align: top;\n    }\n\n    .dataframe thead th {\n        text-align: right;\n    }\n</style>\n<table border=\"1\" class=\"dataframe\">\n  <thead>\n    <tr style=\"text-align: right;\">\n      <th></th>\n      <th>tail_number</th>\n      <th>owner_customer_name</th>\n      <th>owner_other</th>\n      <th>owner_state</th>\n      <th>owner_tax_id</th>\n      <th>operator_customer_name</th>\n      <th>operator_other</th>\n      <th>operator_state</th>\n      <th>operator_tax_id</th>\n      <th>certifate_num</th>\n      <th>...</th>\n      <th>unk_cdmarcanac3</th>\n      <th>foreign_tail_number</th>\n      <th>unk_dsgravame</th>\n      <th>age</th>\n      <th>owner_tax_id_type</th>\n      <th>owner_tax_id_print</th>\n      <th>operator_tax_id_type</th>\n      <th>operator_tax_id_print</th>\n      <th>owned_operated</th>\n      <th>agaircraft</th>\n    </tr>\n  </thead>\n  <tbody>\n    <tr>\n      <th>0</th>\n      <td>PRYYX</td>\n      <td>AZUL LINHAS AEREAS BRASILEIRAS S.A.</td>\n      <td>NaN</td>\n      <td>SP</td>\n      <td>09296295000160</td>\n      <td>NaN</td>\n      <td>NaN</td>\n      <td>NaN</td>\n      <td>&lt;NA&gt;</td>\n      <td>NaN</td>\n      <td>...</td>\n      <td>NaN</td>\n      <td>NaN</td>\n      <td>RESERVADAS AS MARCAS</td>\n      <td>&lt;NA&gt;</td>\n      <td>CNPJ</td>\n      <td>09.296.295/0001-60</td>\n      <td>EMPTY</td>\n      <td>&lt;NA&gt;</td>\n      <td>False</td>\n      <td>False</td>\n    </tr>\n    <tr>\n      <th>1</th>\n      <td>PRZAB</td>\n      <td>AMT PATRIMONIAL E PARTCIPACOES LTDA</td>\n      <td>FERNANDO SOARES GURGEL</td>\n      <td>CE</td>\n      <td>29327303000103</td>\n      <td>AMT PATRIMONIAL E PARTCIPACOES LTDA</td>\n      <td>FERNANDO SOARES GURGEL</td>\n      <td>CE</td>\n      <td>29327303000103</td>\n      <td>121229</td>\n      <td>...</td>\n      <td>NaN</td>\n      <td>NaN</td>\n      <td>NaN</td>\n      <td>9</td>\n      <td>CNPJ</td>\n      <td>29.327.303/0001-03</td>\n      <td>CNPJ</td>\n      <td>29.327.303/0001-03</td>\n      <td>True</td>\n      <td>False</td>\n    </tr>\n    <tr>\n      <th>2</th>\n      <td>PRZAD</td>\n      <td>AIRSHIP DO BRASIL - INDUSTRIA E SERVICOS AEREO...</td>\n      <td>NaN</td>\n      <td>SP</td>\n      <td>07933461000166</td>\n      <td>AIRSHIP DO BRASIL - INDUSTRIA E SERVICOS AEREO...</td>\n      <td>NaN</td>\n      <td>SP</td>\n      <td>07933461000166</td>\n      <td>201106</td>\n      <td>...</td>\n      <td>NaN</td>\n      <td>NaN</td>\n      <td>NaN</td>\n      <td>1</td>\n      <td>CNPJ</td>\n      <td>07.933.461/0001-66</td>\n      <td>CNPJ</td>\n      <td>07.933.461/0001-66</td>\n      <td>True</td>\n      <td>False</td>\n    </tr>\n    <tr>\n      <th>3</th>\n      <td>PRZAE</td>\n      <td>ADEMIR BATISTA BRAGA</td>\n      <td>NaN</td>\n      <td>SP</td>\n      <td>84293918868</td>\n      <td>ADEMIR BATISTA BRAGA</td>\n      <td>NaN</td>\n      <td>SP</td>\n      <td>84293918868</td>\n      <td>110921</td>\n      <td>...</td>\n      <td>NaN</td>\n      <td>NaN</td>\n      <td>NaN</td>\n      <td>10</td>\n      <td>CPF</td>\n      <td>842.939.188-68</td>\n      <td>CPF</td>\n      <td>842.939.188-68</td>\n      <td>True</td>\n      <td>False</td>\n    </tr>\n    <tr>\n      <th>4</th>\n      <td>PRZBB</td>\n      <td>JOSE CLAUDIO FURLAN</td>\n      <td>NaN</td>\n      <td>MG</td>\n      <td>45158940649</td>\n      <td>JOSE CLAUDIO FURLAN</td>\n      <td>NaN</td>\n      <td>MG</td>\n      <td>45158940649</td>\n      <td>111205</td>\n      <td>...</td>\n      <td>NaN</td>\n      <td>NaN</td>\n      <td>NaN</td>\n      <td>10</td>\n      <td>CPF</td>\n      <td>451.589.406-49</td>\n      <td>CPF</td>\n      <td>451.589.406-49</td>\n      <td>True</td>\n      <td>False</td>\n    </tr>\n  </tbody>\n</table>\n<p>5 rows × 39 columns</p>\n</div>"
     },
     "metadata": {},
     "execution_count": 17
    }
   ],
   "source": [
    "air_br.clean.head()"
   ]
  },
  {
   "cell_type": "code",
   "execution_count": 27,
   "metadata": {},
   "outputs": [],
   "source": [
    "df = pd.DataFrame(r['data'])"
   ]
  },
  {
   "cell_type": "code",
   "execution_count": 28,
   "metadata": {},
   "outputs": [
    {
     "output_type": "execute_result",
     "data": {
      "text/plain": [
       "                                               Owner Description  Discount  \\\n",
       "0  {'name': 'Rebecca Thorp', 'id': '5244140000028...        None         0   \n",
       "1  {'name': 'Rebecca Thorp', 'id': '5244140000028...        None         0   \n",
       "2  {'name': 'Rebecca Thorp', 'id': '5244140000028...        None         0   \n",
       "3  {'name': 'Rebecca Thorp', 'id': '5244140000028...        None         0   \n",
       "4  {'name': 'Rebecca Thorp', 'id': '5244140000028...        None         0   \n",
       "\n",
       "  $currency_symbol Engine_Model  \\\n",
       "0                $    PT6A-67AG   \n",
       "1                $    PT6A-15AG   \n",
       "2                $    PT6A-11AG   \n",
       "3                $    PT6A-34AG   \n",
       "4                $    PT6A-34AG   \n",
       "\n",
       "                                     $review_process  Tax Invoice_Date  \\\n",
       "0  {'approve': False, 'reject': False, 'resubmit'...    0   2020-10-21   \n",
       "1  {'approve': False, 'reject': False, 'resubmit'...    0   2020-11-12   \n",
       "2  {'approve': False, 'reject': False, 'resubmit'...    0   2020-11-19   \n",
       "3  {'approve': False, 'reject': False, 'resubmit'...    0   2020-11-25   \n",
       "4  {'approve': False, 'reject': False, 'resubmit'...    0   2020-12-02   \n",
       "\n",
       "  $review $state  ...                                    Product_Details  \\\n",
       "0    None   save  ...  [{'product': {'Product_Code': None, 'Currency'...   \n",
       "1    None   save  ...  [{'product': {'Product_Code': None, 'Currency'...   \n",
       "2    None   save  ...  [{'product': {'Product_Code': None, 'Currency'...   \n",
       "3    None   save  ...  [{'product': {'Product_Code': None, 'Currency'...   \n",
       "4    None   save  ...  [{'product': {'Product_Code': None, 'Currency'...   \n",
       "\n",
       "                     Subject $orchestration Engine_Serial_Number $in_merge  \\\n",
       "0  2020 AT-802 HDP Argentina           None           PCE-RD0355     False   \n",
       "1    2020 AT-402B Aero Chaco           None           PCE-PD0268     False   \n",
       "2    2020 AT-402A Medianeira           None           PCE-RH0139     False   \n",
       "3        2020 AT-504 Aplimax           None           PCE-PH1348     False   \n",
       "4       2020 AT-502B Agripar           None           PCE-PH1356     False   \n",
       "\n",
       "  $line_tax Tag                             Prop_Blades $approval_state  \\\n",
       "0        []  []  M09005, M09013, M09018, M09019, M09021        approved   \n",
       "1        []  []                  M09442, M09443, M09445        approved   \n",
       "2        []  []                  M09901, M09902, M09903        approved   \n",
       "3        []  []                  M09446, M09448, M09449        approved   \n",
       "4        []  []                  M09440, M09441, M09433        approved   \n",
       "\n",
       "   Prop_Hub  \n",
       "0   HBA2452  \n",
       "1  BUA34635  \n",
       "2  BUA34651  \n",
       "3  BUA34632  \n",
       "4  BUA34624  \n",
       "\n",
       "[5 rows x 36 columns]"
      ],
      "text/html": "<div>\n<style scoped>\n    .dataframe tbody tr th:only-of-type {\n        vertical-align: middle;\n    }\n\n    .dataframe tbody tr th {\n        vertical-align: top;\n    }\n\n    .dataframe thead th {\n        text-align: right;\n    }\n</style>\n<table border=\"1\" class=\"dataframe\">\n  <thead>\n    <tr style=\"text-align: right;\">\n      <th></th>\n      <th>Owner</th>\n      <th>Description</th>\n      <th>Discount</th>\n      <th>$currency_symbol</th>\n      <th>Engine_Model</th>\n      <th>$review_process</th>\n      <th>Tax</th>\n      <th>Invoice_Date</th>\n      <th>$review</th>\n      <th>$state</th>\n      <th>...</th>\n      <th>Product_Details</th>\n      <th>Subject</th>\n      <th>$orchestration</th>\n      <th>Engine_Serial_Number</th>\n      <th>$in_merge</th>\n      <th>$line_tax</th>\n      <th>Tag</th>\n      <th>Prop_Blades</th>\n      <th>$approval_state</th>\n      <th>Prop_Hub</th>\n    </tr>\n  </thead>\n  <tbody>\n    <tr>\n      <th>0</th>\n      <td>{'name': 'Rebecca Thorp', 'id': '5244140000028...</td>\n      <td>None</td>\n      <td>0</td>\n      <td>$</td>\n      <td>PT6A-67AG</td>\n      <td>{'approve': False, 'reject': False, 'resubmit'...</td>\n      <td>0</td>\n      <td>2020-10-21</td>\n      <td>None</td>\n      <td>save</td>\n      <td>...</td>\n      <td>[{'product': {'Product_Code': None, 'Currency'...</td>\n      <td>2020 AT-802 HDP Argentina</td>\n      <td>None</td>\n      <td>PCE-RD0355</td>\n      <td>False</td>\n      <td>[]</td>\n      <td>[]</td>\n      <td>M09005, M09013, M09018, M09019, M09021</td>\n      <td>approved</td>\n      <td>HBA2452</td>\n    </tr>\n    <tr>\n      <th>1</th>\n      <td>{'name': 'Rebecca Thorp', 'id': '5244140000028...</td>\n      <td>None</td>\n      <td>0</td>\n      <td>$</td>\n      <td>PT6A-15AG</td>\n      <td>{'approve': False, 'reject': False, 'resubmit'...</td>\n      <td>0</td>\n      <td>2020-11-12</td>\n      <td>None</td>\n      <td>save</td>\n      <td>...</td>\n      <td>[{'product': {'Product_Code': None, 'Currency'...</td>\n      <td>2020 AT-402B Aero Chaco</td>\n      <td>None</td>\n      <td>PCE-PD0268</td>\n      <td>False</td>\n      <td>[]</td>\n      <td>[]</td>\n      <td>M09442, M09443, M09445</td>\n      <td>approved</td>\n      <td>BUA34635</td>\n    </tr>\n    <tr>\n      <th>2</th>\n      <td>{'name': 'Rebecca Thorp', 'id': '5244140000028...</td>\n      <td>None</td>\n      <td>0</td>\n      <td>$</td>\n      <td>PT6A-11AG</td>\n      <td>{'approve': False, 'reject': False, 'resubmit'...</td>\n      <td>0</td>\n      <td>2020-11-19</td>\n      <td>None</td>\n      <td>save</td>\n      <td>...</td>\n      <td>[{'product': {'Product_Code': None, 'Currency'...</td>\n      <td>2020 AT-402A Medianeira</td>\n      <td>None</td>\n      <td>PCE-RH0139</td>\n      <td>False</td>\n      <td>[]</td>\n      <td>[]</td>\n      <td>M09901, M09902, M09903</td>\n      <td>approved</td>\n      <td>BUA34651</td>\n    </tr>\n    <tr>\n      <th>3</th>\n      <td>{'name': 'Rebecca Thorp', 'id': '5244140000028...</td>\n      <td>None</td>\n      <td>0</td>\n      <td>$</td>\n      <td>PT6A-34AG</td>\n      <td>{'approve': False, 'reject': False, 'resubmit'...</td>\n      <td>0</td>\n      <td>2020-11-25</td>\n      <td>None</td>\n      <td>save</td>\n      <td>...</td>\n      <td>[{'product': {'Product_Code': None, 'Currency'...</td>\n      <td>2020 AT-504 Aplimax</td>\n      <td>None</td>\n      <td>PCE-PH1348</td>\n      <td>False</td>\n      <td>[]</td>\n      <td>[]</td>\n      <td>M09446, M09448, M09449</td>\n      <td>approved</td>\n      <td>BUA34632</td>\n    </tr>\n    <tr>\n      <th>4</th>\n      <td>{'name': 'Rebecca Thorp', 'id': '5244140000028...</td>\n      <td>None</td>\n      <td>0</td>\n      <td>$</td>\n      <td>PT6A-34AG</td>\n      <td>{'approve': False, 'reject': False, 'resubmit'...</td>\n      <td>0</td>\n      <td>2020-12-02</td>\n      <td>None</td>\n      <td>save</td>\n      <td>...</td>\n      <td>[{'product': {'Product_Code': None, 'Currency'...</td>\n      <td>2020 AT-502B Agripar</td>\n      <td>None</td>\n      <td>PCE-PH1356</td>\n      <td>False</td>\n      <td>[]</td>\n      <td>[]</td>\n      <td>M09440, M09441, M09433</td>\n      <td>approved</td>\n      <td>BUA34624</td>\n    </tr>\n  </tbody>\n</table>\n<p>5 rows × 36 columns</p>\n</div>"
     },
     "metadata": {},
     "execution_count": 28
    }
   ],
   "source": [
    "df.head()"
   ]
  },
  {
   "cell_type": "code",
   "execution_count": 31,
   "metadata": {},
   "outputs": [
    {
     "output_type": "execute_result",
     "data": {
      "text/plain": [
       "{'per_page': 200, 'count': 200, 'page': 1, 'more_records': True}"
      ]
     },
     "metadata": {},
     "execution_count": 31
    }
   ],
   "source": [
    "r['info']"
   ]
  },
  {
   "cell_type": "code",
   "execution_count": 32,
   "metadata": {},
   "outputs": [
    {
     "output_type": "stream",
     "name": "stderr",
     "text": [
      "127.0.0.1 - - [11/Feb/2021 15:22:57] \"GET /?code=1000.791389c344dba9c8a6bd3b98b69a05ea.4d307d6bb9ec89c80720e77476218337&location=us&accounts-server=https%3A%2F%2Faccounts.zoho.com& HTTP/1.1\" 200 -\n"
     ]
    }
   ],
   "source": [
    "r = crm.get(\"invoices\")"
   ]
  },
  {
   "cell_type": "code",
   "execution_count": 33,
   "metadata": {},
   "outputs": [],
   "source": [
    "r"
   ]
  },
  {
   "cell_type": "code",
   "execution_count": null,
   "metadata": {},
   "outputs": [],
   "source": []
  }
 ]
}